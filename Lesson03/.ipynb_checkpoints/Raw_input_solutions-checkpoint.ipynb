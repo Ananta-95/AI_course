{
 "cells": [
  {
   "cell_type": "markdown",
   "metadata": {},
   "source": [
    "# Solutions for scripting a raw input exercises"
   ]
  },
  {
   "cell_type": "markdown",
   "metadata": {},
   "source": [
    "**Question 1**\n",
    "\n",
    "Ask user to input their names and print it."
   ]
  },
  {
   "cell_type": "code",
   "execution_count": 1,
   "metadata": {},
   "outputs": [
    {
     "name": "stdout",
     "output_type": "stream",
     "text": [
      "Your name: Fairoza\n",
      "Fairoza\n"
     ]
    }
   ],
   "source": [
    "name = input(\"Your name: \")\n",
    "print(name)"
   ]
  },
  {
   "cell_type": "markdown",
   "metadata": {},
   "source": [
    "**Question 2**\n",
    "\n",
    "Based on the answer in question 1, say hello to the user."
   ]
  },
  {
   "cell_type": "code",
   "execution_count": 2,
   "metadata": {},
   "outputs": [
    {
     "name": "stdout",
     "output_type": "stream",
     "text": [
      "Hello Fairoza!\n"
     ]
    }
   ],
   "source": [
    "print(\"Hello {}!\".format(name))"
   ]
  },
  {
   "cell_type": "markdown",
   "metadata": {},
   "source": [
    "**Question 3**\n",
    "\n",
    "Ask the user how old is he or she. "
   ]
  },
  {
   "cell_type": "code",
   "execution_count": 3,
   "metadata": {},
   "outputs": [
    {
     "name": "stdout",
     "output_type": "stream",
     "text": [
      "Your age: 27\n",
      "27\n"
     ]
    }
   ],
   "source": [
    "age = input(\"Your age: \")\n",
    "print(age)"
   ]
  },
  {
   "cell_type": "markdown",
   "metadata": {},
   "source": [
    "**Question 4**\n",
    "\n",
    "Add user's age to his/her age in 5 years later."
   ]
  },
  {
   "cell_type": "code",
   "execution_count": 4,
   "metadata": {},
   "outputs": [
    {
     "name": "stdout",
     "output_type": "stream",
     "text": [
      "32\n"
     ]
    }
   ],
   "source": [
    "age = int(age)\n",
    "age_5_years_later = age + 5\n",
    "print(age_5_years_later)"
   ]
  },
  {
   "cell_type": "markdown",
   "metadata": {},
   "source": [
    "**Question 5**\n",
    "\n",
    "Print something as below.\n",
    "`Hello <user>! \n",
    "Now you are <age> years old and in 5 years time you will be <age_5_years_later> years old.`"
   ]
  },
  {
   "cell_type": "code",
   "execution_count": 7,
   "metadata": {},
   "outputs": [
    {
     "name": "stdout",
     "output_type": "stream",
     "text": [
      "Hello Fairoza!\n",
      "Now you are 27 years old and in 5 years time you will be 32 years old\n"
     ]
    }
   ],
   "source": [
    "print(\"Hello {}!\\nNow you are {} years old and in 5 years time you will be {} years old\".format(name, age, age_5_years_later))"
   ]
  },
  {
   "cell_type": "markdown",
   "metadata": {},
   "source": [
    "**Bonus**\n",
    "\n",
    "If you have lots of people would like to key in the sentences above, how would you do that?\n",
    "\n",
    "*Hint: You may use for loop where we are going to learn this in Lesson 6*"
   ]
  },
  {
   "cell_type": "code",
   "execution_count": 9,
   "metadata": {},
   "outputs": [
    {
     "name": "stdout",
     "output_type": "stream",
     "text": [
      "Names separated by commas: Fairoza, Fairuz\n",
      "Age for each separated by commas: 27, 20\n",
      "Hello Fairoza!\n",
      "Now you are 27 years old and in 5 years time you will be 32 years old\n",
      "Hello  Fairuz!\n",
      "Now you are  20 years old and in 5 years time you will be 25 years old\n"
     ]
    }
   ],
   "source": [
    "names = input(\"Names separated by commas: \").title().split(\",\")\n",
    "ages = input(\"Age for each separated by commas: \").split(\",\")\n",
    "message = \"Hello {}!\\nNow you are {} years old and in 5 years time you will be {} years old\"\n",
    "\n",
    "for name, age in zip(names, ages):\n",
    "    print(message.format(name, age, int(age)+5))"
   ]
  },
  {
   "cell_type": "code",
   "execution_count": null,
   "metadata": {},
   "outputs": [],
   "source": []
  }
 ],
 "metadata": {
  "kernelspec": {
   "display_name": "Python 3",
   "language": "python",
   "name": "python3"
  },
  "language_info": {
   "codemirror_mode": {
    "name": "ipython",
    "version": 3
   },
   "file_extension": ".py",
   "mimetype": "text/x-python",
   "name": "python",
   "nbconvert_exporter": "python",
   "pygments_lexer": "ipython3",
   "version": "3.7.3"
  }
 },
 "nbformat": 4,
 "nbformat_minor": 2
}
