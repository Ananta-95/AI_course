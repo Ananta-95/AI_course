{
 "cells": [
  {
   "cell_type": "markdown",
   "metadata": {},
   "source": [
    "# Individual Project Theme 2\n",
    "## Hangman Game"
   ]
  },
  {
   "cell_type": "markdown",
   "metadata": {},
   "source": [
    "**How to use this notebook and complete the project?**\n",
    "\n",
    "1. You need to answer all required questions by answering in the markdown cell.\n",
    "2. Read the instruction and fill in the #todo sections.\n",
    "3. Run all the cells to store the results of each codes.\n",
    "4. Save this notebook by clicking on `File`, then click `Download as`, choose `HTML`.\n",
    "5. Push this notebook to your GitHub reporitory by creating a new repository, named `AIP_IndividualProject`. Set this repository as `Private` until the day of your submission, which is on *29th June 2019, 1.30 PM*."
   ]
  },
  {
   "cell_type": "markdown",
   "metadata": {},
   "source": [
    "**Instructions:**\n",
    "\n",
    "Let's build a game: Hangman! Have you ever heard about Hangman game?\n",
    "It's a game to guess a word letter-by-letter, but, if they make too many wrong guesses, they'll lose.\n",
    "\n",
    "Now, it's the time for you to make a hangman game where player can player with a computer.\n"
   ]
  },
  {
   "cell_type": "markdown",
   "metadata": {},
   "source": [
    "**Question 1**:\n",
    "\n",
    "Draw a flowchart to write the program of this game. You may draw a flowchart by using *powerpoint*, then save it as a picture in `.jpg` or `.png`. Then, use this command to the *Answer* column below.\n",
    "`<img src=_____.jpg>`"
   ]
  },
  {
   "cell_type": "markdown",
   "metadata": {},
   "source": [
    "**Answer**:"
   ]
  },
  {
   "cell_type": "markdown",
   "metadata": {},
   "source": [
    "**Step 1**:\n",
    "\n",
    "Given a list of words, print a list of words at random."
   ]
  },
  {
   "cell_type": "code",
   "execution_count": 1,
   "metadata": {},
   "outputs": [
    {
     "name": "stdout",
     "output_type": "stream",
     "text": [
      "strong\n"
     ]
    }
   ],
   "source": [
    "from random import choice\n",
    "\n",
    "word = choice([\"pretty\", \"old\", \"young\", \"nice\", \"kind\", \"bad\", \"weak\", \"strong\", \"lazy\", \"weird\"])\n",
    "\n",
    "print(word)"
   ]
  },
  {
   "cell_type": "markdown",
   "metadata": {},
   "source": [
    "**Step 2**:\n",
    "\n",
    "#TODO\n",
    "\n",
    "Now, let's find out how to guess a letter."
   ]
  },
  {
   "cell_type": "code",
   "execution_count": null,
   "metadata": {},
   "outputs": [],
   "source": [
    "#TODO\n",
    "\n",
    "out = \"\"\n",
    "\n",
    "for letter in word:\n",
    "    out = out + \"_\"\n",
    "\n",
    "print"
   ]
  }
 ],
 "metadata": {
  "kernelspec": {
   "display_name": "Python 3",
   "language": "python",
   "name": "python3"
  },
  "language_info": {
   "codemirror_mode": {
    "name": "ipython",
    "version": 3
   },
   "file_extension": ".py",
   "mimetype": "text/x-python",
   "name": "python",
   "nbconvert_exporter": "python",
   "pygments_lexer": "ipython3",
   "version": "3.7.3"
  }
 },
 "nbformat": 4,
 "nbformat_minor": 2
}
