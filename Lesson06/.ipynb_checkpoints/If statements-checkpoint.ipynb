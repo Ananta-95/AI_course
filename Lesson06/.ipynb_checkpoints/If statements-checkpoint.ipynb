{
 "cells": [
  {
   "cell_type": "markdown",
   "metadata": {},
   "source": [
    "# Solution for if statements exercises"
   ]
  },
  {
   "cell_type": "markdown",
   "metadata": {},
   "source": [
    "1. Write a conditional statements according to flowchart below.\n",
    "\n",
    "<img src=\"if.png\">"
   ]
  },
  {
   "cell_type": "code",
   "execution_count": 1,
   "metadata": {},
   "outputs": [
    {
     "name": "stdout",
     "output_type": "stream",
     "text": [
      "please insert any numbers\n",
      "-7\n",
      "-7 is negative\n"
     ]
    }
   ],
   "source": [
    "print(\"please insert any numbers\")\n",
    "x = input()\n",
    "x = int(x)\n",
    "\n",
    "if x == 0:\n",
    "    print(x, \"is zero\")\n",
    "elif x > 0:\n",
    "    print(x, \"is positive\")\n",
    "elif x < 0:\n",
    "    print(x, \"is negative\")\n",
    "else:\n",
    "    print(x, \"is None\")\n"
   ]
  },
  {
   "cell_type": "markdown",
   "metadata": {},
   "source": [
    "**Finding the right amount of purchased item based on the tax of the goods**\n",
    "2. Find the right amount of purchased item based on the tax implemented in the city of the goods sold. The tax for each country is as below:\n",
    "\n",
    "Japan : 8%\n",
    "\n",
    "Malaysia: 6%\n",
    "\n",
    "UK: 14%\n",
    "\n",
    "Europe: 20%\n",
    "\n",
    "Print the result of the purchased item price. Round it to the nearest decimal places. The price of the item should be in USD.  \n",
    "You may use input() to ask user to input an entry.\n",
    "\n",
    "Necessary variables:\n",
    "\n",
    "Raw_price_of_good\n",
    "\n",
    "Country\n"
   ]
  },
  {
   "cell_type": "code",
   "execution_count": 5,
   "metadata": {},
   "outputs": [
    {
     "name": "stdout",
     "output_type": "stream",
     "text": [
      "Please put country name (Japan, Malaysia, UK, Europe):\n",
      "UK\n",
      "Please put the raw price of each good:\n",
      "16\n",
      "You need to pay 18.24 because you are from UK\n"
     ]
    }
   ],
   "source": [
    "print(\"Please put country name (Japan, Malaysia, UK, Europe):\")\n",
    "country = input()\n",
    "print(\"Please put the raw price of each good:\")\n",
    "raw_price_of_good = input()\n",
    "raw_price_of_good = int(raw_price_of_good)\n",
    "\n",
    "if country == 'Japan':\n",
    "    tax_amount = 0.08\n",
    "    total_cost = raw_price_of_good * (1+tax_amount)\n",
    "    total_cost = round(total_cost, 2)\n",
    "    result = \"You need to pay {} because you are from {}\".format(total_cost, country)\n",
    "elif country == 'Malaysia':\n",
    "    tax_amount = 0.06\n",
    "    total_cost = raw_price_of_good * (1+tax_amount)\n",
    "    total_cost = round(total_cost, 2)\n",
    "    result = \"You need to pay {} because you are from {}\".format(total_cost, country)\n",
    "elif country == 'UK':\n",
    "    tax_amount = 0.14\n",
    "    total_cost = raw_price_of_good * (1+tax_amount)\n",
    "    total_cost = round(total_cost, 2)\n",
    "    result = \"You need to pay {} because you are from {}\".format(total_cost, country)\n",
    "else:\n",
    "    tax_amount = 0.20\n",
    "    total_cost = raw_price_of_good * (1+tax_amount)\n",
    "    total_cost = round(total_cost, 2)\n",
    "    result = \"You need to pay {} because you are from {}\".format(total_cost, country)\n",
    "\n",
    "print(result)"
   ]
  },
  {
   "cell_type": "code",
   "execution_count": null,
   "metadata": {},
   "outputs": [],
   "source": []
  }
 ],
 "metadata": {
  "kernelspec": {
   "display_name": "Python 3",
   "language": "python",
   "name": "python3"
  },
  "language_info": {
   "codemirror_mode": {
    "name": "ipython",
    "version": 3
   },
   "file_extension": ".py",
   "mimetype": "text/x-python",
   "name": "python",
   "nbconvert_exporter": "python",
   "pygments_lexer": "ipython3",
   "version": "3.7.3"
  }
 },
 "nbformat": 4,
 "nbformat_minor": 2
}
