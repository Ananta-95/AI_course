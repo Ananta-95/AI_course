{
 "cells": [
  {
   "cell_type": "markdown",
   "metadata": {},
   "source": [
    "# Solution for Generators Exercises"
   ]
  },
  {
   "cell_type": "markdown",
   "metadata": {},
   "source": [
    "**Question 1**\n",
    "\n",
    "Write a list (using list comprehension) and a generator experession for multiple of 4 from range 1 to 40.\n",
    "Answers should be \n",
    "\n",
    "[4, 8, 12, 16, 20, 24, 28, 32, 36, 40]"
   ]
  },
  {
   "cell_type": "code",
   "execution_count": 3,
   "metadata": {},
   "outputs": [
    {
     "name": "stdout",
     "output_type": "stream",
     "text": [
      "[4, 8, 12, 16, 20, 24, 28, 32, 36, 40]\n"
     ]
    }
   ],
   "source": [
    "numbers = [n * 4 for n in range(1,11)]\n",
    "print(numbers)"
   ]
  },
  {
   "cell_type": "code",
   "execution_count": 5,
   "metadata": {},
   "outputs": [
    {
     "name": "stdout",
     "output_type": "stream",
     "text": [
      "[4, 8, 12, 16, 20, 24, 28, 32, 36, 40]\n"
     ]
    }
   ],
   "source": [
    "numbers = (n * 4 for n in range(1,11))\n",
    "print (list(numbers))"
   ]
  },
  {
   "cell_type": "markdown",
   "metadata": {},
   "source": [
    "**Question 2**\n",
    "\n",
    "A generator compared to the list comprehension, is used at one iteration onlyb and thus can be stopped and started. Write a generator that break a loop after displaying number 1 to 10, then 11 to 20.\n",
    "\n",
    "The results should be,\n",
    "\n",
    "1 2 3 4 5 6 7 8 9 10\n",
    "\n",
    "stop for a while\n",
    "\n",
    "11 12 13 14 15 16 17 18 19 20"
   ]
  },
  {
   "cell_type": "code",
   "execution_count": 8,
   "metadata": {},
   "outputs": [
    {
     "name": "stdout",
     "output_type": "stream",
     "text": [
      "0 1 2 3 4 5 6 7 8 9 10 11 \n",
      "stop for a while\n",
      "12 13 14 15 16 17 18 19 20 "
     ]
    }
   ],
   "source": [
    "G = (n for n in range(21))\n",
    "for n in G:\n",
    "    print (n, end=' ')\n",
    "    if n > 10:\n",
    "        break\n",
    "\n",
    "print(\"\\nstop for a while\")\n",
    "\n",
    "for n in G:\n",
    "    print(n, end=' ')"
   ]
  },
  {
   "cell_type": "markdown",
   "metadata": {},
   "source": [
    "**Question 3**\n",
    "\n",
    "By using `yield` statement, write a `generator` function that generate the same results as the first generator statement.\n",
    "\n",
    "Results should be as below:\n",
    "\n",
    "[4, 8, 12, 16, 20, 24, 28, 32, 36, 40]\n",
    "\n",
    "[4, 8, 12, 16, 20, 24, 28, 32, 36, 40]\n",
    "\n",
    "Get the same result by using list comprehension and compare."
   ]
  },
  {
   "cell_type": "code",
   "execution_count": 2,
   "metadata": {},
   "outputs": [
    {
     "name": "stdout",
     "output_type": "stream",
     "text": [
      "4 8 12 16 20 24 28 32 36 40\n",
      "0 4 8 12 16 20 24 28 32 36 40\n"
     ]
    }
   ],
   "source": [
    "numbers_1 = (n * 4 for n in range(1,11))\n",
    "\n",
    "def gen():\n",
    "    for n in range(11):\n",
    "        yield n * 4\n",
    "\n",
    "numbers_2 = gen()\n",
    "\n",
    "print (*numbers_1)\n",
    "print (*numbers_2)"
   ]
  },
  {
   "cell_type": "code",
   "execution_count": 6,
   "metadata": {},
   "outputs": [
    {
     "name": "stdout",
     "output_type": "stream",
     "text": [
      "[0, 4, 8, 12, 16, 20, 24, 28, 32, 36, 40]\n",
      "[0, 4, 8, 12, 16, 20, 24, 28, 32, 36, 40]\n"
     ]
    }
   ],
   "source": [
    "L1 = [n * 4 for n in range(11)]\n",
    "\n",
    "L2 = []\n",
    "for n in range(11):\n",
    "    L2.append(n * 4)\n",
    "\n",
    "print(L1)\n",
    "print(L2)"
   ]
  },
  {
   "cell_type": "markdown",
   "metadata": {},
   "source": [
    "**Question 4**\n",
    "\n",
    "Generate a prime number function by using generator. List until 100.\n",
    "\n",
    "Prime number is a whole number greater than 1 whose only factors are 1 and itself."
   ]
  },
  {
   "cell_type": "code",
   "execution_count": 9,
   "metadata": {},
   "outputs": [
    {
     "name": "stdout",
     "output_type": "stream",
     "text": [
      "[2, 3, 5, 7, 11, 13, 17, 19, 23, 29, 31, 37, 41, 43, 47, 53, 59, 61, 67, 71, 73, 79, 83, 89, 97]\n"
     ]
    }
   ],
   "source": [
    "def gen_primes(N):\n",
    "    primes = set()\n",
    "    for n in range(2, N):\n",
    "        if all(n % p > 0 for p in primes):\n",
    "            primes.add(n)\n",
    "            yield n\n",
    "\n",
    "print(list(gen_primes(100)))"
   ]
  },
  {
   "cell_type": "markdown",
   "metadata": {},
   "source": [
    "if by using for loop only,"
   ]
  },
  {
   "cell_type": "code",
   "execution_count": 11,
   "metadata": {},
   "outputs": [
    {
     "name": "stdout",
     "output_type": "stream",
     "text": [
      "[2, 3, 5, 7, 11, 13, 17, 19, 23, 29, 31, 37, 41, 43, 47, 53, 59, 61, 67, 71, 73, 79, 83, 89, 97]\n"
     ]
    }
   ],
   "source": [
    "primes = []\n",
    "for possiblePrime in range(2, 101):    \n",
    "    # Assume number is prime until shown it is not. \n",
    "    isPrime = True\n",
    "    for num in range(2, possiblePrime):\n",
    "        if possiblePrime % num == 0:\n",
    "            isPrime = False      \n",
    "    if isPrime:\n",
    "        primes.append(possiblePrime)\n",
    "print(primes)"
   ]
  },
  {
   "cell_type": "code",
   "execution_count": null,
   "metadata": {},
   "outputs": [],
   "source": []
  }
 ],
 "metadata": {
  "kernelspec": {
   "display_name": "Python 3",
   "language": "python",
   "name": "python3"
  },
  "language_info": {
   "codemirror_mode": {
    "name": "ipython",
    "version": 3
   },
   "file_extension": ".py",
   "mimetype": "text/x-python",
   "name": "python",
   "nbconvert_exporter": "python",
   "pygments_lexer": "ipython3",
   "version": "3.7.3"
  }
 },
 "nbformat": 4,
 "nbformat_minor": 2
}
