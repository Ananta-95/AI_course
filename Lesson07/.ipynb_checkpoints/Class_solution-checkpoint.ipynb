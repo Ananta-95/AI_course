{
 "cells": [
  {
   "cell_type": "markdown",
   "metadata": {},
   "source": [
    "# Solution for Classes Exercises"
   ]
  },
  {
   "cell_type": "markdown",
   "metadata": {},
   "source": [
    "**Question 1**\n",
    "\n",
    "Create a class named Animal, use the `__init__()` function to assign values for animal's name and their amounts."
   ]
  },
  {
   "cell_type": "code",
   "execution_count": 1,
   "metadata": {},
   "outputs": [
    {
     "name": "stdout",
     "output_type": "stream",
     "text": [
      "cat\n",
      "4\n"
     ]
    }
   ],
   "source": [
    "class Animal:\n",
    "    def __init__(self, animal_name, amounts):\n",
    "        self.animal_name = animal_name\n",
    "        self.amounts = amounts\n",
    "        \n",
    "a1 = Animal(\"cat\", 4)\n",
    "\n",
    "print(a1.animal_name)\n",
    "print(a1.amounts)"
   ]
  },
  {
   "cell_type": "markdown",
   "metadata": {},
   "source": [
    "**Question 2**\n",
    "\n",
    "Methods in objects are functions that belongs to the object.\n",
    "\n",
    "Insert a function that prints `There are <amounts> <animal's name>(s) in the zoo.`, and execute it on the a1 object."
   ]
  },
  {
   "cell_type": "code",
   "execution_count": 2,
   "metadata": {},
   "outputs": [
    {
     "name": "stdout",
     "output_type": "stream",
     "text": [
      "There are 4 cat(s) in the zoo.\n"
     ]
    }
   ],
   "source": [
    "class Animal:\n",
    "    def __init__(self, animal_name, amounts):\n",
    "        self.animal_name = animal_name\n",
    "        self.amounts = amounts\n",
    "    \n",
    "    def myfunc(self):\n",
    "        print(\"There are {} {}(s) in the zoo.\".format(self.amounts, self.animal_name))\n",
    "        \n",
    "a1 = Animal(\"cat\", 4)\n",
    "a1.myfunc()"
   ]
  },
  {
   "cell_type": "markdown",
   "metadata": {},
   "source": [
    "**Question 3**\n",
    "\n",
    "Change the word `self` inside the `Class` with any names you like and see whether the results are different or not."
   ]
  },
  {
   "cell_type": "code",
   "execution_count": 3,
   "metadata": {},
   "outputs": [
    {
     "name": "stdout",
     "output_type": "stream",
     "text": [
      "There are 4 cat(s) in the zoo.\n"
     ]
    }
   ],
   "source": [
    "class Animal:\n",
    "    def __init__(anything, animal_name, amounts):\n",
    "        anything.animal_name = animal_name\n",
    "        anything.amounts = amounts\n",
    "    \n",
    "    def myfunc(abc):\n",
    "        print(\"There are {} {}(s) in the zoo.\".format(abc.amounts, abc.animal_name))\n",
    "        \n",
    "a1 = Animal(\"cat\", 4)\n",
    "a1.myfunc()"
   ]
  },
  {
   "cell_type": "code",
   "execution_count": null,
   "metadata": {},
   "outputs": [],
   "source": []
  }
 ],
 "metadata": {
  "kernelspec": {
   "display_name": "Python 3",
   "language": "python",
   "name": "python3"
  },
  "language_info": {
   "codemirror_mode": {
    "name": "ipython",
    "version": 3
   },
   "file_extension": ".py",
   "mimetype": "text/x-python",
   "name": "python",
   "nbconvert_exporter": "python",
   "pygments_lexer": "ipython3",
   "version": "3.7.3"
  }
 },
 "nbformat": 4,
 "nbformat_minor": 2
}
